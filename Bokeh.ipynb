{
 "cells": [
  {
   "cell_type": "code",
   "execution_count": 2,
   "metadata": {},
   "outputs": [
    {
     "data": {
      "text/html": [
       "\n",
       "  <div id=\"c4248699-62db-4806-b91b-5fa081f72724\" data-root-id=\"p1044\" style=\"display: contents;\"></div>\n"
      ]
     },
     "metadata": {},
     "output_type": "display_data"
    },
    {
     "data": {
      "application/javascript": "(function(root) {\n  function embed_document(root) {\n  const docs_json = {\"ae6b9820-e0c7-4a0f-8a95-abc9821125c9\":{\"version\":\"3.2.1\",\"title\":\"Bokeh Application\",\"roots\":[{\"type\":\"object\",\"name\":\"Figure\",\"id\":\"p1044\",\"attributes\":{\"x_range\":{\"type\":\"object\",\"name\":\"DataRange1d\",\"id\":\"p1045\"},\"y_range\":{\"type\":\"object\",\"name\":\"DataRange1d\",\"id\":\"p1046\"},\"x_scale\":{\"type\":\"object\",\"name\":\"LinearScale\",\"id\":\"p1054\"},\"y_scale\":{\"type\":\"object\",\"name\":\"LinearScale\",\"id\":\"p1055\"},\"title\":{\"type\":\"object\",\"name\":\"Title\",\"id\":\"p1047\",\"attributes\":{\"text\":\"Simple Scatter Plot\"}},\"renderers\":[{\"type\":\"object\",\"name\":\"GlyphRenderer\",\"id\":\"p1079\",\"attributes\":{\"data_source\":{\"type\":\"object\",\"name\":\"ColumnDataSource\",\"id\":\"p1073\",\"attributes\":{\"selected\":{\"type\":\"object\",\"name\":\"Selection\",\"id\":\"p1074\",\"attributes\":{\"indices\":[],\"line_indices\":[]}},\"selection_policy\":{\"type\":\"object\",\"name\":\"UnionRenderers\",\"id\":\"p1075\"},\"data\":{\"type\":\"map\",\"entries\":[[\"x\",{\"type\":\"ndarray\",\"array\":{\"type\":\"bytes\",\"data\":\"CPMslhmQ2z/CDU2XsqvpP9pE1E79TeY/zVnFbH9r5z8SXUTNJ+nWP7CRaVWc5+4/yTNQn1L/5j+0wGKd6W3EPxdaH8yJ3uM/7DH1uMMe4T9Hnz7uowflP/BeS+ef5c8/YHqVeRodnT/PsHh/AuPhP1C+sJQ+JcI/rgddUaG00D8ADeM15kpxP4SuIlE7fcE/CO4nbUTg1T89vJx6/TnkP3BvuyA74rk/TNtOQgr15D/G7Nu79gbYPxauZMFrje4/GjcHOnPB0T8/Bzs96errP/AomyL6Yaw/Hdf7GoV15T/gjSGmY3OvP0THHxUGtuU/4mg2Wy0m2j+bckv+X6nsPzKWuKEmm9Q/fHoJsGDP3T+CQZgxIAflPxHUsrYj8+U/EI7ec5G+0j9w3aq8AX3RPzf/XHEn6uM/Vq/LcpA57D/KsK7Arg3tP3hEaNf7BtE/sNkuASxWxT9CNMPW347XP8pIvKNN3d8/zaZQJ8gV6D89ba58W97nP/IttMKEht8/DH8Xjz5ExT/weImiaq3nP74abVG52es/ByWTvgd04z8uH5dnaI/fP9L8b2rdqt8/eUUmoab76j/T/GZ5QyzvP9juPi/HYc0/X6x6RXSP5T95qm0XjOLsP0N4ft//bek/JaqjBmdU4j+YwKGR/9WyPyEVFXAmuOs/IPXdNPk5oD8QzU6YEnzvP6cXlpHoKeg/lrN/mU9h0z9Q2dc7hEmqP7FAkRahduw/YB2JIsUSoT9AqrzHDC3XP94yPlk8v9A/hMZH7RZ+4j+i5ILCP4/eP70vI8Xlmes/LLW/fDAu5z9Xr7oMnYXnP49BLhrzvuA/XuLm3JlP2z8b81JUwIzhPz78w3HcCe0/LkFhlkaN7T8H6JzDZzHnPyhqxxLNueY/gvyq6vZ/3z/uIbsw4YjZP1TS0qLi3cY/gJAg9Bfn2j9hLxOTPQXrPwtrbilkB+8/IBJbzII5mj/CZsE0FgHoP6RwKvJ2jdQ/A78D6Txt5D/eJcq1BkDqPzAfMZUBVq8/v4AK2a716j+EKenxvzzJP2QyovSpj9Y/bBgwkPl40j8=\"},\"shape\":[100],\"dtype\":\"float64\",\"order\":\"little\"}],[\"y\",{\"type\":\"ndarray\",\"array\":{\"type\":\"bytes\",\"data\":\"cOu8fHu4xT/MtJRPZvrHPwzCqtbaEdA/XMSiZRGCyD9UdIEe+xzsP2pEIVYalOE/AEH13fpyhD8SOx6aBNbdPxCtk0PeccA/MweLdD4d5z9+fdf9qdHRP3CwUXDQftE/zPaw/88y0D84iHc/dNDIPypqIRhroOo/wDPen10lqz+AGCQjLMa0P3QMSyz5W+4/wKv4Bz1KwD+UKE5rEKrhP/gTM+JEVO8/BXyuNLBz6j8OWJgZGJ3kP1j4wtsAVbE/nP+0OHry4D+dh0qHCZ/jP9j2LprjCsA/Hxw8uBb+6T9AiCDDTIaVP2xYO6TkS94/nI3aXu1c0j+ZB+Na9/rqP/fdkbjFT+M/fKdJVO9t0T8C+FIKKRLnP4zp3qaWqOE/5Xqg1xDf4T8AGVa7MuXUPzLxdya7SeY/KL7rtQQj4z84MQBK1yLnP1+wGkpOr+Y/yifBVTIM4T9cQOmIwhrZP3KPzZXo1Os/dLRcWYQDzD8swXqf+V7eP2ggDePZOrQ/ehMqwI9/4z9Z2bN3LYLrPz/OaVFuxeU/jEfIbUq4zT+TUa0fy6rvPzTkzfnK1uc/am9fly5W4T8/BmlpgbPoP0plUHETjOw/WPtq1qiBtT8m45HjZhzhP4Ao+RdWBH0/1pdYMrkV3T9Bnd4bWT3jP/xGNa/6Z+U/NqXisYDI2T+rSB4KW5LkP4A1ttn4Eqk/8NDcHLVI4D/UV2W8B9TTPw7scGCLu9U/P4alcKgX6T8LPzBeeuLlP2UBLjHoy+o/CGkoPtonsj/g/YDzvOOyP4ihJAxd9eQ/4PK0oibM5z+YS5Zx1D7UP2YiR0x1ZN0/uxnSZ+Kn7j88ELjACX7KP7aZOxudP+I/QuvYblar1z8AjtAPhmbZPwCf8Q0VIGE/eGPbOcGPxj/jZvlWXjboP21pss8XOec/u0sG8wAa7T+w0wR9eVblP8Bzttxjp6w/BHf5F4du7T+S14Fil43jP0283sFCme8/9whl3FQt5j+sEHpxMtvpP5BKKM0ikOc/iv0zqDPd4T8sAKpY2XboP0QQwLtoxNU/2MHZ/5XB3z8=\"},\"shape\":[100],\"dtype\":\"float64\",\"order\":\"little\"}]]}}},\"view\":{\"type\":\"object\",\"name\":\"CDSView\",\"id\":\"p1080\",\"attributes\":{\"filter\":{\"type\":\"object\",\"name\":\"AllIndices\",\"id\":\"p1081\"}}},\"glyph\":{\"type\":\"object\",\"name\":\"Circle\",\"id\":\"p1076\",\"attributes\":{\"x\":{\"type\":\"field\",\"field\":\"x\"},\"y\":{\"type\":\"field\",\"field\":\"y\"},\"size\":{\"type\":\"value\",\"value\":8},\"line_color\":{\"type\":\"value\",\"value\":\"blue\"},\"line_alpha\":{\"type\":\"value\",\"value\":0.5},\"fill_color\":{\"type\":\"value\",\"value\":\"blue\"},\"fill_alpha\":{\"type\":\"value\",\"value\":0.5},\"hatch_color\":{\"type\":\"value\",\"value\":\"blue\"},\"hatch_alpha\":{\"type\":\"value\",\"value\":0.5}}},\"nonselection_glyph\":{\"type\":\"object\",\"name\":\"Circle\",\"id\":\"p1077\",\"attributes\":{\"x\":{\"type\":\"field\",\"field\":\"x\"},\"y\":{\"type\":\"field\",\"field\":\"y\"},\"size\":{\"type\":\"value\",\"value\":8},\"line_color\":{\"type\":\"value\",\"value\":\"blue\"},\"line_alpha\":{\"type\":\"value\",\"value\":0.1},\"fill_color\":{\"type\":\"value\",\"value\":\"blue\"},\"fill_alpha\":{\"type\":\"value\",\"value\":0.1},\"hatch_color\":{\"type\":\"value\",\"value\":\"blue\"},\"hatch_alpha\":{\"type\":\"value\",\"value\":0.1}}},\"muted_glyph\":{\"type\":\"object\",\"name\":\"Circle\",\"id\":\"p1078\",\"attributes\":{\"x\":{\"type\":\"field\",\"field\":\"x\"},\"y\":{\"type\":\"field\",\"field\":\"y\"},\"size\":{\"type\":\"value\",\"value\":8},\"line_color\":{\"type\":\"value\",\"value\":\"blue\"},\"line_alpha\":{\"type\":\"value\",\"value\":0.2},\"fill_color\":{\"type\":\"value\",\"value\":\"blue\"},\"fill_alpha\":{\"type\":\"value\",\"value\":0.2},\"hatch_color\":{\"type\":\"value\",\"value\":\"blue\"},\"hatch_alpha\":{\"type\":\"value\",\"value\":0.2}}}}}],\"toolbar\":{\"type\":\"object\",\"name\":\"Toolbar\",\"id\":\"p1053\",\"attributes\":{\"tools\":[{\"type\":\"object\",\"name\":\"PanTool\",\"id\":\"p1066\"},{\"type\":\"object\",\"name\":\"WheelZoomTool\",\"id\":\"p1067\"},{\"type\":\"object\",\"name\":\"BoxZoomTool\",\"id\":\"p1068\",\"attributes\":{\"overlay\":{\"type\":\"object\",\"name\":\"BoxAnnotation\",\"id\":\"p1069\",\"attributes\":{\"syncable\":false,\"level\":\"overlay\",\"visible\":false,\"left_units\":\"canvas\",\"right_units\":\"canvas\",\"bottom_units\":\"canvas\",\"top_units\":\"canvas\",\"line_color\":\"black\",\"line_alpha\":1.0,\"line_width\":2,\"line_dash\":[4,4],\"fill_color\":\"lightgrey\",\"fill_alpha\":0.5}}}},{\"type\":\"object\",\"name\":\"SaveTool\",\"id\":\"p1070\"},{\"type\":\"object\",\"name\":\"ResetTool\",\"id\":\"p1071\"},{\"type\":\"object\",\"name\":\"HelpTool\",\"id\":\"p1072\"}]}},\"left\":[{\"type\":\"object\",\"name\":\"LinearAxis\",\"id\":\"p1061\",\"attributes\":{\"ticker\":{\"type\":\"object\",\"name\":\"BasicTicker\",\"id\":\"p1062\",\"attributes\":{\"mantissas\":[1,2,5]}},\"formatter\":{\"type\":\"object\",\"name\":\"BasicTickFormatter\",\"id\":\"p1063\"},\"major_label_policy\":{\"type\":\"object\",\"name\":\"AllLabels\",\"id\":\"p1064\"}}}],\"below\":[{\"type\":\"object\",\"name\":\"LinearAxis\",\"id\":\"p1056\",\"attributes\":{\"ticker\":{\"type\":\"object\",\"name\":\"BasicTicker\",\"id\":\"p1057\",\"attributes\":{\"mantissas\":[1,2,5]}},\"formatter\":{\"type\":\"object\",\"name\":\"BasicTickFormatter\",\"id\":\"p1058\"},\"major_label_policy\":{\"type\":\"object\",\"name\":\"AllLabels\",\"id\":\"p1059\"}}}],\"center\":[{\"type\":\"object\",\"name\":\"Grid\",\"id\":\"p1060\",\"attributes\":{\"axis\":{\"id\":\"p1056\"}}},{\"type\":\"object\",\"name\":\"Grid\",\"id\":\"p1065\",\"attributes\":{\"dimension\":1,\"axis\":{\"id\":\"p1061\"}}}]}}]}};\n  const render_items = [{\"docid\":\"ae6b9820-e0c7-4a0f-8a95-abc9821125c9\",\"roots\":{\"p1044\":\"c4248699-62db-4806-b91b-5fa081f72724\"},\"root_ids\":[\"p1044\"]}];\n  root.Bokeh.embed.embed_items_notebook(docs_json, render_items);\n  }\n  if (root.Bokeh !== undefined) {\n    embed_document(root);\n  } else {\n    let attempts = 0;\n    const timer = setInterval(function(root) {\n      if (root.Bokeh !== undefined) {\n        clearInterval(timer);\n        embed_document(root);\n      } else {\n        attempts++;\n        if (attempts > 100) {\n          clearInterval(timer);\n          console.log(\"Bokeh: ERROR: Unable to run BokehJS code because BokehJS library is missing\");\n        }\n      }\n    }, 10, root)\n  }\n})(window);",
      "application/vnd.bokehjs_exec.v0+json": ""
     },
     "metadata": {
      "application/vnd.bokehjs_exec.v0+json": {
       "id": "p1044"
      }
     },
     "output_type": "display_data"
    }
   ],
   "source": [
    "# Q1\n",
    "'''Bokeh is a Python library for creating interactive, browser-based data visualizations. To create a basic Bokeh plot, you typically need to follow these steps:\n",
    "\n",
    "1.Import the necessary functions and classes from the Bokeh library.\n",
    "2.Prepare your data.\n",
    "3.Create a figure using the figure() function.\n",
    "4.Add glyphs (visual markers) to the figure to represent your data.\n",
    "5.Customize the appearance of the plot using various methods.\n",
    "6.Show the plot using the show() function.\n",
    "'''\n",
    "# Example\n",
    "from bokeh.plotting import figure, show\n",
    "import numpy as np\n",
    "\n",
    "# Prepare data\n",
    "x = np.random.random(100)\n",
    "y = np.random.random(100)\n",
    "\n",
    "# Create a Bokeh figure\n",
    "p = figure(title=\"Simple Scatter Plot\")\n",
    "\n",
    "# Add a scatter glyph\n",
    "p.circle(x, y, size=8, color=\"blue\", alpha=0.5)\n",
    "\n",
    "# Show the plot\n",
    "show(p)\n"
   ]
  },
  {
   "cell_type": "code",
   "execution_count": 3,
   "metadata": {},
   "outputs": [
    {
     "data": {
      "text/html": [
       "\n",
       "  <div id=\"b9bf55dd-b23f-436d-834d-76aaa80a02a5\" data-root-id=\"p1087\" style=\"display: contents;\"></div>\n"
      ]
     },
     "metadata": {},
     "output_type": "display_data"
    },
    {
     "data": {
      "application/javascript": "(function(root) {\n  function embed_document(root) {\n  const docs_json = {\"760ce482-1e08-48e0-8022-3e8779029a78\":{\"version\":\"3.2.1\",\"title\":\"Bokeh Application\",\"roots\":[{\"type\":\"object\",\"name\":\"Figure\",\"id\":\"p1087\",\"attributes\":{\"x_range\":{\"type\":\"object\",\"name\":\"DataRange1d\",\"id\":\"p1088\"},\"y_range\":{\"type\":\"object\",\"name\":\"DataRange1d\",\"id\":\"p1089\"},\"x_scale\":{\"type\":\"object\",\"name\":\"LinearScale\",\"id\":\"p1097\"},\"y_scale\":{\"type\":\"object\",\"name\":\"LinearScale\",\"id\":\"p1098\"},\"title\":{\"type\":\"object\",\"name\":\"Title\",\"id\":\"p1090\",\"attributes\":{\"text\":\"Circle Glyph Example\"}},\"renderers\":[{\"type\":\"object\",\"name\":\"GlyphRenderer\",\"id\":\"p1122\",\"attributes\":{\"data_source\":{\"type\":\"object\",\"name\":\"ColumnDataSource\",\"id\":\"p1116\",\"attributes\":{\"selected\":{\"type\":\"object\",\"name\":\"Selection\",\"id\":\"p1117\",\"attributes\":{\"indices\":[],\"line_indices\":[]}},\"selection_policy\":{\"type\":\"object\",\"name\":\"UnionRenderers\",\"id\":\"p1118\"},\"data\":{\"type\":\"map\",\"entries\":[[\"x\",[1,2,3,4,5]],[\"y\",[6,7,2,4,8]]]}}},\"view\":{\"type\":\"object\",\"name\":\"CDSView\",\"id\":\"p1123\",\"attributes\":{\"filter\":{\"type\":\"object\",\"name\":\"AllIndices\",\"id\":\"p1124\"}}},\"glyph\":{\"type\":\"object\",\"name\":\"Circle\",\"id\":\"p1119\",\"attributes\":{\"x\":{\"type\":\"field\",\"field\":\"x\"},\"y\":{\"type\":\"field\",\"field\":\"y\"},\"size\":{\"type\":\"value\",\"value\":10},\"line_color\":{\"type\":\"value\",\"value\":\"red\"},\"fill_color\":{\"type\":\"value\",\"value\":\"red\"},\"hatch_color\":{\"type\":\"value\",\"value\":\"red\"}}},\"nonselection_glyph\":{\"type\":\"object\",\"name\":\"Circle\",\"id\":\"p1120\",\"attributes\":{\"x\":{\"type\":\"field\",\"field\":\"x\"},\"y\":{\"type\":\"field\",\"field\":\"y\"},\"size\":{\"type\":\"value\",\"value\":10},\"line_color\":{\"type\":\"value\",\"value\":\"red\"},\"line_alpha\":{\"type\":\"value\",\"value\":0.1},\"fill_color\":{\"type\":\"value\",\"value\":\"red\"},\"fill_alpha\":{\"type\":\"value\",\"value\":0.1},\"hatch_color\":{\"type\":\"value\",\"value\":\"red\"},\"hatch_alpha\":{\"type\":\"value\",\"value\":0.1}}},\"muted_glyph\":{\"type\":\"object\",\"name\":\"Circle\",\"id\":\"p1121\",\"attributes\":{\"x\":{\"type\":\"field\",\"field\":\"x\"},\"y\":{\"type\":\"field\",\"field\":\"y\"},\"size\":{\"type\":\"value\",\"value\":10},\"line_color\":{\"type\":\"value\",\"value\":\"red\"},\"line_alpha\":{\"type\":\"value\",\"value\":0.2},\"fill_color\":{\"type\":\"value\",\"value\":\"red\"},\"fill_alpha\":{\"type\":\"value\",\"value\":0.2},\"hatch_color\":{\"type\":\"value\",\"value\":\"red\"},\"hatch_alpha\":{\"type\":\"value\",\"value\":0.2}}}}}],\"toolbar\":{\"type\":\"object\",\"name\":\"Toolbar\",\"id\":\"p1096\",\"attributes\":{\"tools\":[{\"type\":\"object\",\"name\":\"PanTool\",\"id\":\"p1109\"},{\"type\":\"object\",\"name\":\"WheelZoomTool\",\"id\":\"p1110\"},{\"type\":\"object\",\"name\":\"BoxZoomTool\",\"id\":\"p1111\",\"attributes\":{\"overlay\":{\"type\":\"object\",\"name\":\"BoxAnnotation\",\"id\":\"p1112\",\"attributes\":{\"syncable\":false,\"level\":\"overlay\",\"visible\":false,\"left_units\":\"canvas\",\"right_units\":\"canvas\",\"bottom_units\":\"canvas\",\"top_units\":\"canvas\",\"line_color\":\"black\",\"line_alpha\":1.0,\"line_width\":2,\"line_dash\":[4,4],\"fill_color\":\"lightgrey\",\"fill_alpha\":0.5}}}},{\"type\":\"object\",\"name\":\"SaveTool\",\"id\":\"p1113\"},{\"type\":\"object\",\"name\":\"ResetTool\",\"id\":\"p1114\"},{\"type\":\"object\",\"name\":\"HelpTool\",\"id\":\"p1115\"}]}},\"left\":[{\"type\":\"object\",\"name\":\"LinearAxis\",\"id\":\"p1104\",\"attributes\":{\"ticker\":{\"type\":\"object\",\"name\":\"BasicTicker\",\"id\":\"p1105\",\"attributes\":{\"mantissas\":[1,2,5]}},\"formatter\":{\"type\":\"object\",\"name\":\"BasicTickFormatter\",\"id\":\"p1106\"},\"major_label_policy\":{\"type\":\"object\",\"name\":\"AllLabels\",\"id\":\"p1107\"}}}],\"below\":[{\"type\":\"object\",\"name\":\"LinearAxis\",\"id\":\"p1099\",\"attributes\":{\"ticker\":{\"type\":\"object\",\"name\":\"BasicTicker\",\"id\":\"p1100\",\"attributes\":{\"mantissas\":[1,2,5]}},\"formatter\":{\"type\":\"object\",\"name\":\"BasicTickFormatter\",\"id\":\"p1101\"},\"major_label_policy\":{\"type\":\"object\",\"name\":\"AllLabels\",\"id\":\"p1102\"}}}],\"center\":[{\"type\":\"object\",\"name\":\"Grid\",\"id\":\"p1103\",\"attributes\":{\"axis\":{\"id\":\"p1099\"}}},{\"type\":\"object\",\"name\":\"Grid\",\"id\":\"p1108\",\"attributes\":{\"dimension\":1,\"axis\":{\"id\":\"p1104\"}}},{\"type\":\"object\",\"name\":\"Legend\",\"id\":\"p1125\",\"attributes\":{\"items\":[{\"type\":\"object\",\"name\":\"LegendItem\",\"id\":\"p1126\",\"attributes\":{\"label\":{\"type\":\"value\",\"value\":\"Points\"},\"renderers\":[{\"id\":\"p1122\"}]}}]}}]}}]}};\n  const render_items = [{\"docid\":\"760ce482-1e08-48e0-8022-3e8779029a78\",\"roots\":{\"p1087\":\"b9bf55dd-b23f-436d-834d-76aaa80a02a5\"},\"root_ids\":[\"p1087\"]}];\n  root.Bokeh.embed.embed_items_notebook(docs_json, render_items);\n  }\n  if (root.Bokeh !== undefined) {\n    embed_document(root);\n  } else {\n    let attempts = 0;\n    const timer = setInterval(function(root) {\n      if (root.Bokeh !== undefined) {\n        clearInterval(timer);\n        embed_document(root);\n      } else {\n        attempts++;\n        if (attempts > 100) {\n          clearInterval(timer);\n          console.log(\"Bokeh: ERROR: Unable to run BokehJS code because BokehJS library is missing\");\n        }\n      }\n    }, 10, root)\n  }\n})(window);",
      "application/vnd.bokehjs_exec.v0+json": ""
     },
     "metadata": {
      "application/vnd.bokehjs_exec.v0+json": {
       "id": "p1087"
      }
     },
     "output_type": "display_data"
    }
   ],
   "source": [
    "# Q2\n",
    "'''Glyphs in Bokeh are visual markers that represent data points in a plot, such as circles, squares, lines, etc. They are used to create different types of visualizations. \n",
    "You can add glyphs to a Bokeh plot using glyph methods provided by the figure object.\n",
    "\n",
    "Here's an example of adding circle glyphs to a plot:'''\n",
    "\n",
    "\n",
    "from bokeh.plotting import figure, show\n",
    "\n",
    "\n",
    "x = [1, 2, 3, 4, 5]\n",
    "y = [6, 7, 2, 4, 8]\n",
    "\n",
    "\n",
    "p = figure(title=\"Circle Glyph Example\")\n",
    "\n",
    "\n",
    "p.circle(x, y, size=10, color=\"red\", legend_label=\"Points\")\n",
    "\n",
    "\n",
    "show(p)\n"
   ]
  },
  {
   "cell_type": "code",
   "execution_count": 4,
   "metadata": {},
   "outputs": [
    {
     "data": {
      "text/html": [
       "\n",
       "  <div id=\"b5a1cd83-2f4f-4a4d-a609-20577d7153dc\" data-root-id=\"p1128\" style=\"display: contents;\"></div>\n"
      ]
     },
     "metadata": {},
     "output_type": "display_data"
    },
    {
     "data": {
      "application/javascript": "(function(root) {\n  function embed_document(root) {\n  const docs_json = {\"e86cc153-ebc6-4447-814f-ad76cb13eea8\":{\"version\":\"3.2.1\",\"title\":\"Bokeh Application\",\"roots\":[{\"type\":\"object\",\"name\":\"Figure\",\"id\":\"p1128\",\"attributes\":{\"x_range\":{\"type\":\"object\",\"name\":\"DataRange1d\",\"id\":\"p1129\"},\"y_range\":{\"type\":\"object\",\"name\":\"DataRange1d\",\"id\":\"p1130\"},\"x_scale\":{\"type\":\"object\",\"name\":\"LinearScale\",\"id\":\"p1138\"},\"y_scale\":{\"type\":\"object\",\"name\":\"LinearScale\",\"id\":\"p1139\"},\"title\":{\"type\":\"object\",\"name\":\"Title\",\"id\":\"p1131\",\"attributes\":{\"text\":\"Customization Example\",\"text_color\":\"green\",\"text_font_size\":\"16pt\"}},\"renderers\":[{\"type\":\"object\",\"name\":\"GlyphRenderer\",\"id\":\"p1163\",\"attributes\":{\"data_source\":{\"type\":\"object\",\"name\":\"ColumnDataSource\",\"id\":\"p1157\",\"attributes\":{\"selected\":{\"type\":\"object\",\"name\":\"Selection\",\"id\":\"p1158\",\"attributes\":{\"indices\":[],\"line_indices\":[]}},\"selection_policy\":{\"type\":\"object\",\"name\":\"UnionRenderers\",\"id\":\"p1159\"},\"data\":{\"type\":\"map\",\"entries\":[[\"x\",[1,2,3,4,5]],[\"y\",[6,7,2,4,8]]]}}},\"view\":{\"type\":\"object\",\"name\":\"CDSView\",\"id\":\"p1164\",\"attributes\":{\"filter\":{\"type\":\"object\",\"name\":\"AllIndices\",\"id\":\"p1165\"}}},\"glyph\":{\"type\":\"object\",\"name\":\"Circle\",\"id\":\"p1160\",\"attributes\":{\"x\":{\"type\":\"field\",\"field\":\"x\"},\"y\":{\"type\":\"field\",\"field\":\"y\"},\"size\":{\"type\":\"value\",\"value\":10},\"line_color\":{\"type\":\"value\",\"value\":\"blue\"},\"fill_color\":{\"type\":\"value\",\"value\":\"blue\"},\"hatch_color\":{\"type\":\"value\",\"value\":\"blue\"}}},\"nonselection_glyph\":{\"type\":\"object\",\"name\":\"Circle\",\"id\":\"p1161\",\"attributes\":{\"x\":{\"type\":\"field\",\"field\":\"x\"},\"y\":{\"type\":\"field\",\"field\":\"y\"},\"size\":{\"type\":\"value\",\"value\":10},\"line_color\":{\"type\":\"value\",\"value\":\"blue\"},\"line_alpha\":{\"type\":\"value\",\"value\":0.1},\"fill_color\":{\"type\":\"value\",\"value\":\"blue\"},\"fill_alpha\":{\"type\":\"value\",\"value\":0.1},\"hatch_color\":{\"type\":\"value\",\"value\":\"blue\"},\"hatch_alpha\":{\"type\":\"value\",\"value\":0.1}}},\"muted_glyph\":{\"type\":\"object\",\"name\":\"Circle\",\"id\":\"p1162\",\"attributes\":{\"x\":{\"type\":\"field\",\"field\":\"x\"},\"y\":{\"type\":\"field\",\"field\":\"y\"},\"size\":{\"type\":\"value\",\"value\":10},\"line_color\":{\"type\":\"value\",\"value\":\"blue\"},\"line_alpha\":{\"type\":\"value\",\"value\":0.2},\"fill_color\":{\"type\":\"value\",\"value\":\"blue\"},\"fill_alpha\":{\"type\":\"value\",\"value\":0.2},\"hatch_color\":{\"type\":\"value\",\"value\":\"blue\"},\"hatch_alpha\":{\"type\":\"value\",\"value\":0.2}}}}}],\"toolbar\":{\"type\":\"object\",\"name\":\"Toolbar\",\"id\":\"p1137\",\"attributes\":{\"tools\":[{\"type\":\"object\",\"name\":\"PanTool\",\"id\":\"p1150\"},{\"type\":\"object\",\"name\":\"WheelZoomTool\",\"id\":\"p1151\"},{\"type\":\"object\",\"name\":\"BoxZoomTool\",\"id\":\"p1152\",\"attributes\":{\"overlay\":{\"type\":\"object\",\"name\":\"BoxAnnotation\",\"id\":\"p1153\",\"attributes\":{\"syncable\":false,\"level\":\"overlay\",\"visible\":false,\"left_units\":\"canvas\",\"right_units\":\"canvas\",\"bottom_units\":\"canvas\",\"top_units\":\"canvas\",\"line_color\":\"black\",\"line_alpha\":1.0,\"line_width\":2,\"line_dash\":[4,4],\"fill_color\":\"lightgrey\",\"fill_alpha\":0.5}}}},{\"type\":\"object\",\"name\":\"SaveTool\",\"id\":\"p1154\"},{\"type\":\"object\",\"name\":\"ResetTool\",\"id\":\"p1155\"},{\"type\":\"object\",\"name\":\"HelpTool\",\"id\":\"p1156\"}]}},\"left\":[{\"type\":\"object\",\"name\":\"LinearAxis\",\"id\":\"p1145\",\"attributes\":{\"ticker\":{\"type\":\"object\",\"name\":\"BasicTicker\",\"id\":\"p1146\",\"attributes\":{\"mantissas\":[1,2,5]}},\"formatter\":{\"type\":\"object\",\"name\":\"BasicTickFormatter\",\"id\":\"p1147\"},\"axis_label\":\"Y-axis\",\"major_label_policy\":{\"type\":\"object\",\"name\":\"AllLabels\",\"id\":\"p1148\"}}}],\"below\":[{\"type\":\"object\",\"name\":\"LinearAxis\",\"id\":\"p1140\",\"attributes\":{\"ticker\":{\"type\":\"object\",\"name\":\"BasicTicker\",\"id\":\"p1141\",\"attributes\":{\"mantissas\":[1,2,5]}},\"formatter\":{\"type\":\"object\",\"name\":\"BasicTickFormatter\",\"id\":\"p1142\"},\"axis_label\":\"X-axis\",\"axis_label_text_color\":\"purple\",\"major_label_policy\":{\"type\":\"object\",\"name\":\"AllLabels\",\"id\":\"p1143\"}}}],\"center\":[{\"type\":\"object\",\"name\":\"Grid\",\"id\":\"p1144\",\"attributes\":{\"axis\":{\"id\":\"p1140\"}}},{\"type\":\"object\",\"name\":\"Grid\",\"id\":\"p1149\",\"attributes\":{\"dimension\":1,\"axis\":{\"id\":\"p1145\"}}},{\"type\":\"object\",\"name\":\"Legend\",\"id\":\"p1166\",\"attributes\":{\"title\":\"Legend\",\"label_text_color\":\"orange\",\"items\":[{\"type\":\"object\",\"name\":\"LegendItem\",\"id\":\"p1167\",\"attributes\":{\"label\":{\"type\":\"value\",\"value\":\"Points\"},\"renderers\":[{\"id\":\"p1163\"}]}}]}}]}}]}};\n  const render_items = [{\"docid\":\"e86cc153-ebc6-4447-814f-ad76cb13eea8\",\"roots\":{\"p1128\":\"b5a1cd83-2f4f-4a4d-a609-20577d7153dc\"},\"root_ids\":[\"p1128\"]}];\n  root.Bokeh.embed.embed_items_notebook(docs_json, render_items);\n  }\n  if (root.Bokeh !== undefined) {\n    embed_document(root);\n  } else {\n    let attempts = 0;\n    const timer = setInterval(function(root) {\n      if (root.Bokeh !== undefined) {\n        clearInterval(timer);\n        embed_document(root);\n      } else {\n        attempts++;\n        if (attempts > 100) {\n          clearInterval(timer);\n          console.log(\"Bokeh: ERROR: Unable to run BokehJS code because BokehJS library is missing\");\n        }\n      }\n    }, 10, root)\n  }\n})(window);",
      "application/vnd.bokehjs_exec.v0+json": ""
     },
     "metadata": {
      "application/vnd.bokehjs_exec.v0+json": {
       "id": "p1128"
      }
     },
     "output_type": "display_data"
    }
   ],
   "source": [
    "# Q3\n",
    "from bokeh.plotting import figure, show\n",
    "\n",
    "# Prepare data\n",
    "x = [1, 2, 3, 4, 5]\n",
    "y = [6, 7, 2, 4, 8]\n",
    "\n",
    "# Create a Bokeh figure\n",
    "p = figure(title=\"Customization Example\", x_axis_label=\"X-axis\", y_axis_label=\"Y-axis\")\n",
    "\n",
    "# Add circle glyphs\n",
    "p.circle(x, y, size=10, color=\"blue\", legend_label=\"Points\")\n",
    "\n",
    "# Customize appearance\n",
    "p.title.text_color = \"green\"\n",
    "p.title.text_font_size = \"16pt\"\n",
    "p.xaxis.axis_label_text_color = \"purple\"\n",
    "p.yaxis.axis_label_text_font_style = \"italic\"\n",
    "p.legend.title = \"Legend\"\n",
    "p.legend.label_text_color = \"orange\"\n",
    "\n",
    "# Show the plot\n",
    "show(p)\n",
    "\n"
   ]
  },
  {
   "cell_type": "code",
   "execution_count": 5,
   "metadata": {},
   "outputs": [],
   "source": [
    "# Q4\n",
    "'''The Bokeh server is a powerful tool that allows you to create interactive web applications with real-time updates. With the Bokeh server, you can create dynamic plots that respond to user interactions, data changes, or periodic updates.\n",
    "\n",
    "To use the Bokeh server, you typically need to:\n",
    "\n",
    "Define a Python script that creates the interactive plot and sets up the necessary callbacks for updating.\n",
    "Run the Bokeh server with the command bokeh serve --show your_script.py.\n",
    "Here's a simple example of an interactive plot using the Bokeh server:'''\n",
    "\n",
    "\n",
    "from bokeh.plotting import figure, curdoc\n",
    "from bokeh.models import Slider\n",
    "\n",
    "p = figure(title=\"Interactive Plot\")\n",
    "line = p.line(x=[0, 1, 2, 3], y=[0, 1, 4, 9], line_width=2)\n",
    "\n",
    "\n",
    "slider = Slider(start=0, end=10, value=1, step=0.1, title=\"Multiplier\")\n",
    "\n",
    "\n",
    "def update(attr, old, new):\n",
    "    line.data_source.data[\"y\"] = [x * slider.value for x in [0, 1, 4, 9]]\n",
    "\n",
    "\n",
    "slider.on_change(\"value\", update)\n",
    "\n",
    "\n",
    "curdoc().add_root(p)\n",
    "curdoc().add_root(slider)\n"
   ]
  },
  {
   "cell_type": "code",
   "execution_count": null,
   "metadata": {},
   "outputs": [],
   "source": [
    "# Q5\n",
    "# Q5\n",
    "'''To embed a Bokeh plot into a web page or dashboard using Flask or Django, you can use the components function provided by Bokeh. This function generates the HTML and JavaScript code needed to render the plot in a web page.\n",
    "\n",
    "Here's a general outline of the process:\n",
    "\n",
    "1.Create your Bokeh plot as usual.\n",
    "2.Use the components function to generate the necessary HTML and JavaScript components.\n",
    "3.Pass the generated components to your Flask or Django template.\n",
    "4.Render the template using Flask's or Django's rendering engine.\n",
    "'''\n",
    "from flask import Flask, render_template\n",
    "from bokeh.plotting import figure\n",
    "from bokeh.embed import components\n",
    "\n",
    "app = Flask(__name__)\n",
    "\n",
    "@app.route('/')\n",
    "def index():\n",
    "    # Create a Bokeh plot\n",
    "    p = figure()\n",
    "    p.circle([1, 2, 3], [4, 5, 6])\n",
    "\n",
    "    # Generate components\n",
    "    script, div = components(p)\n",
    "\n",
    "    return render_template('index.html', script=script, div=div)\n",
    "\n",
    "if __name__ == '__main__':\n",
    "    app.run()\n"
   ]
  }
 ],
 "metadata": {
  "kernelspec": {
   "display_name": "Python 3",
   "language": "python",
   "name": "python3"
  },
  "language_info": {
   "codemirror_mode": {
    "name": "ipython",
    "version": 3
   },
   "file_extension": ".py",
   "mimetype": "text/x-python",
   "name": "python",
   "nbconvert_exporter": "python",
   "pygments_lexer": "ipython3",
   "version": "3.11.4"
  },
  "orig_nbformat": 4
 },
 "nbformat": 4,
 "nbformat_minor": 2
}
